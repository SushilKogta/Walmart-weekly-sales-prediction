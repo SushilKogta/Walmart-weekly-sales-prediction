{
 "cells": [
  {
   "cell_type": "markdown",
   "metadata": {},
   "source": [
    "## Section 3 - Preparing Data for Regression"
   ]
  },
  {
   "cell_type": "markdown",
   "metadata": {},
   "source": [
    "### Step 3.1 - Cleaning & Preparation of Dataset with selected parameters"
   ]
  },
  {
   "cell_type": "markdown",
   "metadata": {},
   "source": [
    "#### Copying the cleaning part from first notebook. Here we are not taking Weekly Sales in the dataframe."
   ]
  },
  {
   "cell_type": "code",
   "execution_count": 1,
   "metadata": {},
   "outputs": [],
   "source": [
    "#Steps 1 & 2: Creating final dataset by merging various available datasets\n",
    "#Merging features & stores stores\n",
    "import pandas as pd\n",
    "from pandas import Series, DataFrame\n",
    "import numpy as np\n",
    "\n",
    "features = pd.read_csv('features.csv')\n",
    "stores = pd.read_csv('stores.csv')\n",
    "train = pd.read_csv('train.csv')\n",
    "test = pd.read_csv('test.csv')\n",
    "traintransform = pd.merge(features,stores, on =\"Store\",how=\"left\")"
   ]
  },
  {
   "cell_type": "code",
   "execution_count": 2,
   "metadata": {},
   "outputs": [],
   "source": [
    "finaltest = pd.merge(traintransform,test, on =[\"Store\",\"Date\",\"IsHoliday\"],how=\"inner\")"
   ]
  },
  {
   "cell_type": "code",
   "execution_count": 3,
   "metadata": {},
   "outputs": [],
   "source": [
    "#Merging above dataset with train to create final dataset\n",
    "finaltrain = pd.merge(traintransform,train, on =[\"Store\",\"Date\",\"IsHoliday\"],how=\"inner\")"
   ]
  },
  {
   "cell_type": "code",
   "execution_count": 4,
   "metadata": {},
   "outputs": [],
   "source": [
    "#Converting Date to datetime format\n",
    "finaltrain['Date'] =  pd.to_datetime(finaltrain['Date'])\n",
    "finaltest['Date'] = pd.to_datetime(finaltest['Date'])"
   ]
  },
  {
   "cell_type": "code",
   "execution_count": 5,
   "metadata": {},
   "outputs": [],
   "source": [
    "#This shows we only have null data in \"Markdown\". We are filling it with \"NaN\" values for further analysis.\n",
    "df=finaltrain.fillna(0)\n",
    "finaltest = finaltest.fillna(0)"
   ]
  },
  {
   "cell_type": "code",
   "execution_count": 6,
   "metadata": {},
   "outputs": [],
   "source": [
    "# sorting data with respect to date\n",
    "df = df.sort_values(by='Date')\n",
    "finaltest = finaltest.sort_values(by='Date')"
   ]
  },
  {
   "cell_type": "code",
   "execution_count": 7,
   "metadata": {},
   "outputs": [],
   "source": [
    "df = pd.get_dummies(df, columns=['Type'], drop_first = False)\n",
    "finaltest = pd.get_dummies(finaltest, columns=['Type'], drop_first=False)"
   ]
  },
  {
   "cell_type": "markdown",
   "metadata": {},
   "source": [
    "#### As observed during analysis 5 - Holiday vs Weekly sales, data doesn't consider pre-christmas as holiday even though it has significant impact on weekly sales. Thus, we are adding a new parameter to the model - \"Days to Next Christmas\"."
   ]
  },
  {
   "cell_type": "code",
   "execution_count": 8,
   "metadata": {},
   "outputs": [],
   "source": [
    "# Add column for year\n",
    "df[\"Year\"] = pd.to_datetime(df[\"Date\"], format=\"%Y-%m-%d\").dt.year\n",
    "finaltest[\"Year\"] = pd.to_datetime(finaltest[\"Date\"], format=\"%Y-%m-%d\").dt.year\n",
    "# Add column for day\n",
    "df[\"Day\"] = pd.to_datetime(df[\"Date\"], format=\"%Y-%m-%d\").dt.day\n",
    "finaltest[\"Day\"] = pd.to_datetime(finaltest[\"Date\"], format=\"%Y-%m-%d\").dt.day\n",
    "# Add column for days to next Christmas\n",
    "df[\"Days to Next Christmas\"] = (pd.to_datetime(df[\"Year\"].astype(str)+\"-12-31\", format=\"%Y-%m-%d\") -\n",
    "                                   pd.to_datetime(df[\"Date\"], format=\"%Y-%m-%d\")).dt.days.astype(int)\n",
    "finaltest[\"Days to Next Christmas\"] = (pd.to_datetime(finaltest[\"Year\"].astype(str) + \"-12-31\", format=\"%Y-%m-%d\") -\n",
    "                                   pd.to_datetime(finaltest[\"Date\"], format=\"%Y-%m-%d\")).dt.days.astype(int)"
   ]
  },
  {
   "cell_type": "markdown",
   "metadata": {},
   "source": [
    "#### As we observed during analysis that some parameters do not have an impact on weekly sales, we are dropping those for further traning of model."
   ]
  },
  {
   "cell_type": "markdown",
   "metadata": {},
   "source": [
    "Parameters being dropped:\n",
    "\n",
    "Temperature\n",
    "\n",
    "Fuel Price\n",
    "\n",
    "CPI\n",
    "\n",
    "Unemployment\n",
    "\n",
    "Date (As we've converted date to individual elements above)"
   ]
  },
  {
   "cell_type": "code",
   "execution_count": 9,
   "metadata": {},
   "outputs": [],
   "source": [
    "df = df.drop(\"Date\",axis=1)\n",
    "df = df.drop(\"CPI\",axis=1)\n",
    "df = df.drop(\"Temperature\",axis=1)\n",
    "df = df.drop(\"Fuel_Price\",axis=1)\n",
    "df = df.drop(\"Unemployment\",axis=1)\n",
    "finaltest = finaltest.drop(\"Date\",axis=1)\n",
    "finaltest = finaltest.drop(\"CPI\",axis=1)\n",
    "finaltest = finaltest.drop(\"Unemployment\",axis=1)\n",
    "finaltest = finaltest.drop(\"Temperature\",axis=1)\n",
    "finaltest = finaltest.drop(\"Fuel_Price\",axis=1)"
   ]
  },
  {
   "cell_type": "code",
   "execution_count": 10,
   "metadata": {},
   "outputs": [],
   "source": [
    "y = df.Weekly_Sales"
   ]
  },
  {
   "cell_type": "code",
   "execution_count": 11,
   "metadata": {},
   "outputs": [],
   "source": [
    "df = df.drop(\"Weekly_Sales\",axis=1)"
   ]
  },
  {
   "cell_type": "markdown",
   "metadata": {},
   "source": [
    "### Step 3.2 - Splitting data into train & validation datasets"
   ]
  },
  {
   "cell_type": "markdown",
   "metadata": {},
   "source": [
    "Splitting data in 8:2 ratio as train and validation. We will build the model on train data and use validation data to check for accuracy of different models."
   ]
  },
  {
   "cell_type": "code",
   "execution_count": 12,
   "metadata": {},
   "outputs": [
    {
     "name": "stdout",
     "output_type": "stream",
     "text": [
      "(337256, 15) (337256,)\n",
      "(84314, 15) (84314,)\n"
     ]
    }
   ],
   "source": [
    "from sklearn import datasets, linear_model\n",
    "from sklearn.model_selection import train_test_split\n",
    "from matplotlib import pyplot as plt\n",
    "X_train, X_test, y_train, y_test = train_test_split(df, y, test_size=0.2)\n",
    "print (X_train.shape, y_train.shape)\n",
    "print (X_test.shape, y_test.shape)"
   ]
  },
  {
   "cell_type": "code",
   "execution_count": 13,
   "metadata": {},
   "outputs": [
    {
     "data": {
      "text/html": [
       "<div>\n",
       "<style scoped>\n",
       "    .dataframe tbody tr th:only-of-type {\n",
       "        vertical-align: middle;\n",
       "    }\n",
       "\n",
       "    .dataframe tbody tr th {\n",
       "        vertical-align: top;\n",
       "    }\n",
       "\n",
       "    .dataframe thead th {\n",
       "        text-align: right;\n",
       "    }\n",
       "</style>\n",
       "<table border=\"1\" class=\"dataframe\">\n",
       "  <thead>\n",
       "    <tr style=\"text-align: right;\">\n",
       "      <th></th>\n",
       "      <th>Store</th>\n",
       "      <th>MarkDown1</th>\n",
       "      <th>MarkDown2</th>\n",
       "      <th>MarkDown3</th>\n",
       "      <th>MarkDown4</th>\n",
       "      <th>MarkDown5</th>\n",
       "      <th>IsHoliday</th>\n",
       "      <th>Size</th>\n",
       "      <th>Dept</th>\n",
       "      <th>Type_A</th>\n",
       "      <th>Type_B</th>\n",
       "      <th>Type_C</th>\n",
       "      <th>Year</th>\n",
       "      <th>Day</th>\n",
       "      <th>Days to Next Christmas</th>\n",
       "    </tr>\n",
       "  </thead>\n",
       "  <tbody>\n",
       "    <tr>\n",
       "      <th>195122</th>\n",
       "      <td>20</td>\n",
       "      <td>10686.42</td>\n",
       "      <td>750.14</td>\n",
       "      <td>3.67</td>\n",
       "      <td>3867.16</td>\n",
       "      <td>3518.62</td>\n",
       "      <td>False</td>\n",
       "      <td>203742</td>\n",
       "      <td>3</td>\n",
       "      <td>1</td>\n",
       "      <td>0</td>\n",
       "      <td>0</td>\n",
       "      <td>2012</td>\n",
       "      <td>9</td>\n",
       "      <td>297</td>\n",
       "    </tr>\n",
       "    <tr>\n",
       "      <th>106480</th>\n",
       "      <td>11</td>\n",
       "      <td>11984.13</td>\n",
       "      <td>191.40</td>\n",
       "      <td>78.65</td>\n",
       "      <td>2768.31</td>\n",
       "      <td>6358.77</td>\n",
       "      <td>False</td>\n",
       "      <td>207499</td>\n",
       "      <td>97</td>\n",
       "      <td>1</td>\n",
       "      <td>0</td>\n",
       "      <td>0</td>\n",
       "      <td>2012</td>\n",
       "      <td>8</td>\n",
       "      <td>206</td>\n",
       "    </tr>\n",
       "  </tbody>\n",
       "</table>\n",
       "</div>"
      ],
      "text/plain": [
       "        Store  MarkDown1  MarkDown2  MarkDown3  MarkDown4  MarkDown5  \\\n",
       "195122     20   10686.42     750.14       3.67    3867.16    3518.62   \n",
       "106480     11   11984.13     191.40      78.65    2768.31    6358.77   \n",
       "\n",
       "        IsHoliday    Size  Dept  Type_A  Type_B  Type_C  Year  Day  \\\n",
       "195122      False  203742     3       1       0       0  2012    9   \n",
       "106480      False  207499    97       1       0       0  2012    8   \n",
       "\n",
       "        Days to Next Christmas  \n",
       "195122                     297  \n",
       "106480                     206  "
      ]
     },
     "execution_count": 13,
     "metadata": {},
     "output_type": "execute_result"
    }
   ],
   "source": [
    "X_train.head(2)"
   ]
  },
  {
   "cell_type": "code",
   "execution_count": 14,
   "metadata": {},
   "outputs": [
    {
     "data": {
      "text/plain": [
       "195122    13701.90\n",
       "106480    18347.26\n",
       "Name: Weekly_Sales, dtype: float64"
      ]
     },
     "execution_count": 14,
     "metadata": {},
     "output_type": "execute_result"
    }
   ],
   "source": [
    "y_train.head(2)"
   ]
  },
  {
   "cell_type": "code",
   "execution_count": 15,
   "metadata": {},
   "outputs": [
    {
     "data": {
      "text/html": [
       "<div>\n",
       "<style scoped>\n",
       "    .dataframe tbody tr th:only-of-type {\n",
       "        vertical-align: middle;\n",
       "    }\n",
       "\n",
       "    .dataframe tbody tr th {\n",
       "        vertical-align: top;\n",
       "    }\n",
       "\n",
       "    .dataframe thead th {\n",
       "        text-align: right;\n",
       "    }\n",
       "</style>\n",
       "<table border=\"1\" class=\"dataframe\">\n",
       "  <thead>\n",
       "    <tr style=\"text-align: right;\">\n",
       "      <th></th>\n",
       "      <th>Store</th>\n",
       "      <th>MarkDown1</th>\n",
       "      <th>MarkDown2</th>\n",
       "      <th>MarkDown3</th>\n",
       "      <th>MarkDown4</th>\n",
       "      <th>MarkDown5</th>\n",
       "      <th>IsHoliday</th>\n",
       "      <th>Size</th>\n",
       "      <th>Dept</th>\n",
       "      <th>Type_A</th>\n",
       "      <th>Type_B</th>\n",
       "      <th>Type_C</th>\n",
       "      <th>Year</th>\n",
       "      <th>Day</th>\n",
       "      <th>Days to Next Christmas</th>\n",
       "    </tr>\n",
       "  </thead>\n",
       "  <tbody>\n",
       "    <tr>\n",
       "      <th>320406</th>\n",
       "      <td>33</td>\n",
       "      <td>33.23</td>\n",
       "      <td>0.0</td>\n",
       "      <td>0.0</td>\n",
       "      <td>0.0</td>\n",
       "      <td>590.43</td>\n",
       "      <td>False</td>\n",
       "      <td>39690</td>\n",
       "      <td>9</td>\n",
       "      <td>1</td>\n",
       "      <td>0</td>\n",
       "      <td>0</td>\n",
       "      <td>2012</td>\n",
       "      <td>12</td>\n",
       "      <td>80</td>\n",
       "    </tr>\n",
       "    <tr>\n",
       "      <th>51621</th>\n",
       "      <td>6</td>\n",
       "      <td>0.00</td>\n",
       "      <td>0.0</td>\n",
       "      <td>0.0</td>\n",
       "      <td>0.0</td>\n",
       "      <td>0.00</td>\n",
       "      <td>False</td>\n",
       "      <td>202505</td>\n",
       "      <td>83</td>\n",
       "      <td>1</td>\n",
       "      <td>0</td>\n",
       "      <td>0</td>\n",
       "      <td>2010</td>\n",
       "      <td>5</td>\n",
       "      <td>56</td>\n",
       "    </tr>\n",
       "  </tbody>\n",
       "</table>\n",
       "</div>"
      ],
      "text/plain": [
       "        Store  MarkDown1  MarkDown2  MarkDown3  MarkDown4  MarkDown5  \\\n",
       "320406     33      33.23        0.0        0.0        0.0     590.43   \n",
       "51621       6       0.00        0.0        0.0        0.0       0.00   \n",
       "\n",
       "        IsHoliday    Size  Dept  Type_A  Type_B  Type_C  Year  Day  \\\n",
       "320406      False   39690     9       1       0       0  2012   12   \n",
       "51621       False  202505    83       1       0       0  2010    5   \n",
       "\n",
       "        Days to Next Christmas  \n",
       "320406                      80  \n",
       "51621                       56  "
      ]
     },
     "execution_count": 15,
     "metadata": {},
     "output_type": "execute_result"
    }
   ],
   "source": [
    "X_test.head(2)"
   ]
  },
  {
   "cell_type": "code",
   "execution_count": 16,
   "metadata": {},
   "outputs": [
    {
     "data": {
      "text/plain": [
       "320406      22.72\n",
       "51621     3530.56\n",
       "Name: Weekly_Sales, dtype: float64"
      ]
     },
     "execution_count": 16,
     "metadata": {},
     "output_type": "execute_result"
    }
   ],
   "source": [
    "y_test.head(2)"
   ]
  },
  {
   "cell_type": "code",
   "execution_count": 17,
   "metadata": {},
   "outputs": [
    {
     "data": {
      "text/html": [
       "<div>\n",
       "<style scoped>\n",
       "    .dataframe tbody tr th:only-of-type {\n",
       "        vertical-align: middle;\n",
       "    }\n",
       "\n",
       "    .dataframe tbody tr th {\n",
       "        vertical-align: top;\n",
       "    }\n",
       "\n",
       "    .dataframe thead th {\n",
       "        text-align: right;\n",
       "    }\n",
       "</style>\n",
       "<table border=\"1\" class=\"dataframe\">\n",
       "  <thead>\n",
       "    <tr style=\"text-align: right;\">\n",
       "      <th></th>\n",
       "      <th>Store</th>\n",
       "      <th>MarkDown1</th>\n",
       "      <th>MarkDown2</th>\n",
       "      <th>MarkDown3</th>\n",
       "      <th>MarkDown4</th>\n",
       "      <th>MarkDown5</th>\n",
       "      <th>IsHoliday</th>\n",
       "      <th>Size</th>\n",
       "      <th>Dept</th>\n",
       "      <th>Type_A</th>\n",
       "      <th>Type_B</th>\n",
       "      <th>Type_C</th>\n",
       "      <th>Year</th>\n",
       "      <th>Day</th>\n",
       "      <th>Days to Next Christmas</th>\n",
       "    </tr>\n",
       "  </thead>\n",
       "  <tbody>\n",
       "    <tr>\n",
       "      <th>0</th>\n",
       "      <td>1</td>\n",
       "      <td>6766.44</td>\n",
       "      <td>5147.70</td>\n",
       "      <td>50.82</td>\n",
       "      <td>3639.90</td>\n",
       "      <td>2737.42</td>\n",
       "      <td>False</td>\n",
       "      <td>151315</td>\n",
       "      <td>1</td>\n",
       "      <td>1</td>\n",
       "      <td>0</td>\n",
       "      <td>0</td>\n",
       "      <td>2012</td>\n",
       "      <td>2</td>\n",
       "      <td>59</td>\n",
       "    </tr>\n",
       "    <tr>\n",
       "      <th>37648</th>\n",
       "      <td>15</td>\n",
       "      <td>4565.57</td>\n",
       "      <td>5904.29</td>\n",
       "      <td>9.00</td>\n",
       "      <td>1437.77</td>\n",
       "      <td>1226.03</td>\n",
       "      <td>False</td>\n",
       "      <td>123737</td>\n",
       "      <td>74</td>\n",
       "      <td>0</td>\n",
       "      <td>1</td>\n",
       "      <td>0</td>\n",
       "      <td>2012</td>\n",
       "      <td>2</td>\n",
       "      <td>59</td>\n",
       "    </tr>\n",
       "  </tbody>\n",
       "</table>\n",
       "</div>"
      ],
      "text/plain": [
       "       Store  MarkDown1  MarkDown2  MarkDown3  MarkDown4  MarkDown5  \\\n",
       "0          1    6766.44    5147.70      50.82    3639.90    2737.42   \n",
       "37648     15    4565.57    5904.29       9.00    1437.77    1226.03   \n",
       "\n",
       "       IsHoliday    Size  Dept  Type_A  Type_B  Type_C  Year  Day  \\\n",
       "0          False  151315     1       1       0       0  2012    2   \n",
       "37648      False  123737    74       0       1       0  2012    2   \n",
       "\n",
       "       Days to Next Christmas  \n",
       "0                          59  \n",
       "37648                      59  "
      ]
     },
     "execution_count": 17,
     "metadata": {},
     "output_type": "execute_result"
    }
   ],
   "source": [
    "finaltest.head(2)"
   ]
  },
  {
   "cell_type": "markdown",
   "metadata": {},
   "source": [
    "## Section 4 - Regression Models"
   ]
  },
  {
   "cell_type": "markdown",
   "metadata": {},
   "source": [
    "### 4.1 - K Nearest Neighbour Regression Model"
   ]
  },
  {
   "cell_type": "code",
   "execution_count": 18,
   "metadata": {},
   "outputs": [],
   "source": [
    "from sklearn.preprocessing import StandardScaler\n",
    "sc_X = StandardScaler()\n",
    "X_train = sc_X.fit_transform(X_train)\n",
    "X_test = sc_X.transform(X_test)\n",
    "finaltestpred = sc_X.transform(finaltest) "
   ]
  },
  {
   "cell_type": "code",
   "execution_count": 19,
   "metadata": {},
   "outputs": [],
   "source": [
    "#Running KNN model\n",
    "from sklearn.metrics import mean_absolute_error\n",
    "from sklearn.neighbors import KNeighborsRegressor\n",
    "knn = KNeighborsRegressor(n_neighbors=10,n_jobs=4)\n",
    "knn.fit(X_train,y_train)\n",
    "y_pred = knn.predict(X_test)"
   ]
  },
  {
   "cell_type": "code",
   "execution_count": 20,
   "metadata": {},
   "outputs": [
    {
     "data": {
      "image/png": "[encoded data removed]",
      "text/plain": [
       "<Figure size 432x288 with 1 Axes>"
      ]
     },
     "metadata": {
      "needs_background": "light"
     },
     "output_type": "display_data"
    }
   ],
   "source": [
    "# Plotting predicted vs actual weekly sales\n",
    "plt.scatter(y_test,y_pred)\n",
    "plt.xlabel(\"Actual Weekly Sales\")\n",
    "plt.ylabel(\"Predicted Weekly Sales\")\n",
    "plt.show()"
   ]
  },
  {
   "cell_type": "markdown",
   "metadata": {},
   "source": [
    "#### We can't see a clear trend between weekly sales predicted values and actual values here."
   ]
  },
  {
   "cell_type": "code",
   "execution_count": 21,
   "metadata": {},
   "outputs": [],
   "source": [
    "import sklearn.metrics as metrics"
   ]
  },
  {
   "cell_type": "code",
   "execution_count": 22,
   "metadata": {},
   "outputs": [
    {
     "name": "stdout",
     "output_type": "stream",
     "text": [
      "12015.652518442965\n",
      "19458.73689220347\n"
     ]
    }
   ],
   "source": [
    "#Calculating different errors to check accuracy of model - MAE & RMSE \n",
    "print(metrics.mean_absolute_error(y_test,y_pred))\n",
    "print(np.sqrt(metrics.mean_squared_error(y_test,y_pred)))"
   ]
  },
  {
   "cell_type": "code",
   "execution_count": 23,
   "metadata": {},
   "outputs": [
    {
     "name": "stdout",
     "output_type": "stream",
     "text": [
      "Accuracy of KNN model = 26.950389341813576%\n"
     ]
    }
   ],
   "source": [
    "#Calculating accuracy of model\n",
    "accuracy = knn.score(X_test,y_test)\n",
    "print(\"Accuracy of KNN model = \" + str(accuracy * 100) + \"%\")"
   ]
  },
  {
   "cell_type": "markdown",
   "metadata": {},
   "source": [
    "#### As we can see, for KNN model, errors are very high & accuracy is low."
   ]
  },
  {
   "cell_type": "markdown",
   "metadata": {},
   "source": [
    "### 4.2 - Decision Tree Model"
   ]
  },
  {
   "cell_type": "code",
   "execution_count": 24,
   "metadata": {},
   "outputs": [],
   "source": [
    "#Running Decision Tree Model\n",
    "from sklearn.tree import DecisionTreeRegressor\n",
    "dt = DecisionTreeRegressor(random_state=0)\n",
    "dt.fit(X_train,y_train)\n",
    "y_pred2 = dt.predict(X_test)"
   ]
  },
  {
   "cell_type": "code",
   "execution_count": 25,
   "metadata": {},
   "outputs": [
    {
     "name": "stdout",
     "output_type": "stream",
     "text": [
      "1721.426267760989\n",
      "4437.943885565558\n"
     ]
    }
   ],
   "source": [
    "#Checking errors of model\n",
    "print(metrics.mean_absolute_error(y_test,y_pred2))\n",
    "print(np.sqrt(metrics.mean_squared_error(y_test,y_pred2)))"
   ]
  },
  {
   "cell_type": "code",
   "execution_count": 26,
   "metadata": {},
   "outputs": [
    {
     "data": {
      "image/png": "[encoded data removed]",
      "text/plain": [
       "<Figure size 432x288 with 1 Axes>"
      ]
     },
     "metadata": {
      "needs_background": "light"
     },
     "output_type": "display_data"
    }
   ],
   "source": [
    "#Plotting predicted vs actual weekly sales\n",
    "plt.scatter(y_test,y_pred2)\n",
    "plt.xlabel(\"Actual Weekly Sales\")\n",
    "plt.ylabel(\"Predicted Weekly Sales\")\n",
    "plt.show()"
   ]
  },
  {
   "cell_type": "markdown",
   "metadata": {},
   "source": [
    "#### We can see a clear linear trend between predicted and actual weekly sales."
   ]
  },
  {
   "cell_type": "code",
   "execution_count": 27,
   "metadata": {},
   "outputs": [
    {
     "name": "stdout",
     "output_type": "stream",
     "text": [
      "Accuracy of model is 96.2002744684469%\n"
     ]
    }
   ],
   "source": [
    "#Calculating accuracy of model\n",
    "accuracy2 = dt.score(X_test,y_test)\n",
    "print(\"Accuracy of model is \" + str(accuracy2 * 100) + \"%\")"
   ]
  },
  {
   "cell_type": "markdown",
   "metadata": {},
   "source": [
    "#### As seen, Decision Tree model has good accuracy and considerably low error values. So, we'll consider this model."
   ]
  },
  {
   "cell_type": "markdown",
   "metadata": {},
   "source": [
    "### 4.3 - Random Forest Regressor"
   ]
  },
  {
   "cell_type": "code",
   "execution_count": 28,
   "metadata": {},
   "outputs": [],
   "source": [
    "# Running model\n",
    "from sklearn.ensemble import RandomForestRegressor\n",
    "rfr = RandomForestRegressor(n_estimators = 400,max_depth=15,n_jobs=5)        \n",
    "rfr.fit(X_train,y_train)\n",
    "y_pred3=rfr.predict(X_test)"
   ]
  },
  {
   "cell_type": "code",
   "execution_count": 31,
   "metadata": {},
   "outputs": [
    {
     "name": "stdout",
     "output_type": "stream",
     "text": [
      "1963.9395748385984\n",
      "4415.946295000773\n"
     ]
    }
   ],
   "source": [
    "#Checking errors\n",
    "print(metrics.mean_absolute_error(y_test,y_pred3))\n",
    "print(np.sqrt(metrics.mean_squared_error(y_test,y_pred3)))"
   ]
  },
  {
   "cell_type": "code",
   "execution_count": 32,
   "metadata": {},
   "outputs": [
    {
     "data": {
      "image/png": "[encoded data removed]",
      "text/plain": [
       "<Figure size 432x288 with 1 Axes>"
      ]
     },
     "metadata": {
      "needs_background": "light"
     },
     "output_type": "display_data"
    }
   ],
   "source": [
    "#Plotting predicted vs actual weekly sales\n",
    "plt.scatter(y_test,y_pred3)\n",
    "plt.xlabel(\"Actual Weekly Sales\")\n",
    "plt.ylabel(\"Predicted Weekly Sales\")\n",
    "plt.show()"
   ]
  },
  {
   "cell_type": "markdown",
   "metadata": {},
   "source": [
    "#### We can see a clear trend between predicted weekly sales and actual weekly sales."
   ]
  },
  {
   "cell_type": "code",
   "execution_count": 33,
   "metadata": {},
   "outputs": [
    {
     "name": "stdout",
     "output_type": "stream",
     "text": [
      "Accuracy of Random Forrest model is 96.23784937066524%\n"
     ]
    }
   ],
   "source": [
    "#Checking accuracy of model\n",
    "accuracy3 = rfr.score(X_test,y_test)\n",
    "print(\"Accuracy of Random Forrest model is \" + str(accuracy3 * 100) + str(\"%\"))"
   ]
  },
  {
   "cell_type": "markdown",
   "metadata": {},
   "source": [
    "#### As seen, Random Forest model has good accuracy and considerably low error values. So, we'll consider this model."
   ]
  },
  {
   "cell_type": "markdown",
   "metadata": {},
   "source": [
    "### 4.4 XGB Regression"
   ]
  },
  {
   "cell_type": "code",
   "execution_count": 34,
   "metadata": {},
   "outputs": [],
   "source": [
    "from xgboost.sklearn import XGBClassifier  \n",
    "from xgboost.sklearn import XGBRegressor"
   ]
  },
  {
   "cell_type": "code",
   "execution_count": 35,
   "metadata": {},
   "outputs": [
    {
     "name": "stderr",
     "output_type": "stream",
     "text": [
      "C:\\Users\\sushi\\AppData\\Local\\Continuum\\anaconda3\\lib\\site-packages\\xgboost\\core.py:587: FutureWarning: Series.base is deprecated and will be removed in a future version\n",
      "  if getattr(data, 'base', None) is not None and \\\n"
     ]
    },
    {
     "name": "stdout",
     "output_type": "stream",
     "text": [
      "[00:24:55] WARNING: C:/Jenkins/workspace/xgboost-win64_release_0.90/src/objective/regression_obj.cu:152: reg:linear is now deprecated in favor of reg:squarederror.\n"
     ]
    }
   ],
   "source": [
    "#Running model\n",
    "xgb_clf = XGBRegressor(objective='reg:linear', nthread= 4, n_estimators= 500, max_depth= 6, learning_rate= 0.5) \n",
    "xb = xgb_clf.fit(X_train,y_train)\n",
    "y_pred4=xgb_clf.predict(X_test)"
   ]
  },
  {
   "cell_type": "code",
   "execution_count": 36,
   "metadata": {},
   "outputs": [
    {
     "name": "stdout",
     "output_type": "stream",
     "text": [
      "1893.9143747524101\n",
      "3818.291662612698\n"
     ]
    }
   ],
   "source": [
    "#Calculating error\n",
    "print(metrics.mean_absolute_error(y_test,y_pred4))\n",
    "print(np.sqrt(metrics.mean_squared_error(y_test,y_pred4)))"
   ]
  },
  {
   "cell_type": "code",
   "execution_count": 37,
   "metadata": {},
   "outputs": [
    {
     "data": {
      "image/png": "[encoded data removed]",
      "text/plain": [
       "<Figure size 432x288 with 1 Axes>"
      ]
     },
     "metadata": {
      "needs_background": "light"
     },
     "output_type": "display_data"
    }
   ],
   "source": [
    "#Plotting actual vs predicted values\n",
    "plt.scatter(y_test,y_pred4)\n",
    "plt.xlabel(\"Actual Weekly Sales\")\n",
    "plt.ylabel(\"Predicted Weekly Sales\")\n",
    "plt.show()"
   ]
  },
  {
   "cell_type": "markdown",
   "metadata": {},
   "source": [
    "#### We can see a clear trend between predicted and actual values."
   ]
  },
  {
   "cell_type": "code",
   "execution_count": 38,
   "metadata": {},
   "outputs": [
    {
     "name": "stdout",
     "output_type": "stream",
     "text": [
      "Accuracy of model is 97.1872779863862%\n"
     ]
    }
   ],
   "source": [
    "accuracy4 = xb.score(X_test,y_test)\n",
    "print(\"Accuracy of model is \" + str(accuracy4*100) + \"%\")"
   ]
  },
  {
   "cell_type": "markdown",
   "metadata": {},
   "source": [
    "#### As seen, XGB model has good accuracy and considerably low error values. So, we'll consider this model."
   ]
  },
  {
   "cell_type": "markdown",
   "metadata": {},
   "source": [
    "### 4.5 - Extra Trees Regression"
   ]
  },
  {
   "cell_type": "code",
   "execution_count": 45,
   "metadata": {},
   "outputs": [],
   "source": [
    "#Running model\n",
    "from sklearn.ensemble import ExtraTreesRegressor\n",
    "etr = ExtraTreesRegressor(n_estimators=30,n_jobs=4) \n",
    "etr.fit(X_train,y_train)\n",
    "y_pred5=etr.predict(X_test)"
   ]
  },
  {
   "cell_type": "code",
   "execution_count": 46,
   "metadata": {},
   "outputs": [
    {
     "name": "stdout",
     "output_type": "stream",
     "text": [
      "1418.1561235895977\n",
      "4041.8466649110655\n"
     ]
    }
   ],
   "source": [
    "#Finding errors\n",
    "print(metrics.mean_absolute_error(y_test,y_pred5))\n",
    "print(np.sqrt(metrics.mean_squared_error(y_test,y_pred5)))"
   ]
  },
  {
   "cell_type": "code",
   "execution_count": 47,
   "metadata": {},
   "outputs": [
    {
     "data": {
      "image/png": "[encoded data removed]",
      "text/plain": [
       "<Figure size 432x288 with 1 Axes>"
      ]
     },
     "metadata": {
      "needs_background": "light"
     },
     "output_type": "display_data"
    }
   ],
   "source": [
    "#Plotting predicted vs actual sales\n",
    "plt.scatter(y_test,y_pred5)\n",
    "plt.xlabel(\"Actual Weekly Sales\")\n",
    "plt.ylabel(\"Predicted Weekly Sales\")\n",
    "plt.show()"
   ]
  },
  {
   "cell_type": "markdown",
   "metadata": {},
   "source": [
    "#### We can see a clear trend, thus the Extra Tree model is considered for final predictions"
   ]
  },
  {
   "cell_type": "code",
   "execution_count": 48,
   "metadata": {},
   "outputs": [
    {
     "name": "stdout",
     "output_type": "stream",
     "text": [
      "Accuracy of model = 96.8482752568195%\n"
     ]
    }
   ],
   "source": [
    "accuracy5 = etr.score(X_test,y_test)\n",
    "print(\"Accuracy of model = \" + str(accuracy5*100) + \"%\")"
   ]
  },
  {
   "cell_type": "markdown",
   "metadata": {},
   "source": [
    "#### As seen, Extra Trees model has good accuracy and considerably low error values. So, we'll consider this model."
   ]
  },
  {
   "cell_type": "code",
   "execution_count": 50,
   "metadata": {},
   "outputs": [
    {
     "name": "stdout",
     "output_type": "stream",
     "text": [
      "+-----------------------+----------+----------+----------+\n",
      "|         Model         |   MAE    |   RMSE   | Accuracy |\n",
      "+-----------------------+----------+----------+----------+\n",
      "|      KNNRegressor     | 12045.12 | 19569.96 |    26    |\n",
      "| DecisionTreeRegressor | 1680.46  |  4009.8  |  96.91   |\n",
      "| RandomForestRegressor |  1940.6  | 4076.22  |  96.81   |\n",
      "|      XGBRegressor     |  1831.5  | 3485.78  |  97.66   |\n",
      "|   ExtraTreeRegressor  | 1376.63  | 3540.73  |  97.59   |\n",
      "+-----------------------+----------+----------+----------+\n"
     ]
    }
   ],
   "source": [
    "#Summary of all models with errors and accuracy\n",
    "from prettytable import PrettyTable\n",
    "    \n",
    "x = PrettyTable()\n",
    "x.field_names = [\"Model\", \"MAE\", \"RMSE\", \"Accuracy\"]\n",
    "x.add_row([\"KNNRegressor\",12045.12,19569.96,26])\n",
    "x.add_row([\"DecisionTreeRegressor\", 1680.46,4009.80,96.91])\n",
    "x.add_row([\"RandomForestRegressor\", 1940.60,4076.22,96.81])\n",
    "x.add_row([\"XGBRegressor\", 1831.50,3485.78,97.66])\n",
    "x.add_row([\"ExtraTreeRegressor\", 1376.63,3540.73,97.59])\n",
    "print(x)"
   ]
  },
  {
   "cell_type": "markdown",
   "metadata": {},
   "source": [
    "## CONCLUSION:"
   ]
  },
  {
   "cell_type": "markdown",
   "metadata": {},
   "source": [
    "#### As seen in the above table, XGB Regression model has the highest accuracy. It also has considerably low values for error as compared to other models. Thus we will use this model to predict sales for the test set."
   ]
  },
  {
   "cell_type": "code",
   "execution_count": 51,
   "metadata": {},
   "outputs": [],
   "source": [
    "#Predicting on Final test set (without weekly sales)\n",
    "xgb_clf_pred=xgb_clf.predict(finaltestpred)"
   ]
  },
  {
   "cell_type": "code",
   "execution_count": 52,
   "metadata": {},
   "outputs": [],
   "source": [
    "#Final dataframe with Predicted weekly sales\n",
    "finalprediction = pd.DataFrame(xgb_clf_pred)"
   ]
  },
  {
   "cell_type": "code",
   "execution_count": 53,
   "metadata": {},
   "outputs": [],
   "source": [
    "finalprediction=finalprediction.reset_index(drop=True)"
   ]
  },
  {
   "cell_type": "code",
   "execution_count": 54,
   "metadata": {},
   "outputs": [],
   "source": [
    "horizontal_stack = pd.concat([finaltest, finalprediction], axis=1)"
   ]
  },
  {
   "cell_type": "code",
   "execution_count": 55,
   "metadata": {},
   "outputs": [],
   "source": [
    "horizontal_stack.rename(columns={0: 'Predicted Weekly Sales'}, inplace=True)"
   ]
  },
  {
   "cell_type": "code",
   "execution_count": 56,
   "metadata": {},
   "outputs": [
    {
     "data": {
      "text/html": [
       "<div>\n",
       "<style scoped>\n",
       "    .dataframe tbody tr th:only-of-type {\n",
       "        vertical-align: middle;\n",
       "    }\n",
       "\n",
       "    .dataframe tbody tr th {\n",
       "        vertical-align: top;\n",
       "    }\n",
       "\n",
       "    .dataframe thead th {\n",
       "        text-align: right;\n",
       "    }\n",
       "</style>\n",
       "<table border=\"1\" class=\"dataframe\">\n",
       "  <thead>\n",
       "    <tr style=\"text-align: right;\">\n",
       "      <th></th>\n",
       "      <th>Store</th>\n",
       "      <th>MarkDown1</th>\n",
       "      <th>MarkDown2</th>\n",
       "      <th>MarkDown3</th>\n",
       "      <th>MarkDown4</th>\n",
       "      <th>MarkDown5</th>\n",
       "      <th>IsHoliday</th>\n",
       "      <th>Size</th>\n",
       "      <th>Dept</th>\n",
       "      <th>Type_A</th>\n",
       "      <th>Type_B</th>\n",
       "      <th>Type_C</th>\n",
       "      <th>Year</th>\n",
       "      <th>Day</th>\n",
       "      <th>Days to Next Christmas</th>\n",
       "      <th>Predicted Weekly Sales</th>\n",
       "    </tr>\n",
       "  </thead>\n",
       "  <tbody>\n",
       "    <tr>\n",
       "      <th>0</th>\n",
       "      <td>1</td>\n",
       "      <td>6766.44</td>\n",
       "      <td>5147.7</td>\n",
       "      <td>50.82</td>\n",
       "      <td>3639.9</td>\n",
       "      <td>2737.42</td>\n",
       "      <td>False</td>\n",
       "      <td>151315</td>\n",
       "      <td>1</td>\n",
       "      <td>1</td>\n",
       "      <td>0</td>\n",
       "      <td>0</td>\n",
       "      <td>2012</td>\n",
       "      <td>2</td>\n",
       "      <td>59</td>\n",
       "      <td>39585.613281</td>\n",
       "    </tr>\n",
       "    <tr>\n",
       "      <th>1</th>\n",
       "      <td>1</td>\n",
       "      <td>6766.44</td>\n",
       "      <td>5147.7</td>\n",
       "      <td>50.82</td>\n",
       "      <td>3639.9</td>\n",
       "      <td>2737.42</td>\n",
       "      <td>False</td>\n",
       "      <td>151315</td>\n",
       "      <td>2</td>\n",
       "      <td>1</td>\n",
       "      <td>0</td>\n",
       "      <td>0</td>\n",
       "      <td>2012</td>\n",
       "      <td>2</td>\n",
       "      <td>59</td>\n",
       "      <td>11341.232422</td>\n",
       "    </tr>\n",
       "    <tr>\n",
       "      <th>2</th>\n",
       "      <td>1</td>\n",
       "      <td>6766.44</td>\n",
       "      <td>5147.7</td>\n",
       "      <td>50.82</td>\n",
       "      <td>3639.9</td>\n",
       "      <td>2737.42</td>\n",
       "      <td>False</td>\n",
       "      <td>151315</td>\n",
       "      <td>3</td>\n",
       "      <td>1</td>\n",
       "      <td>0</td>\n",
       "      <td>0</td>\n",
       "      <td>2012</td>\n",
       "      <td>2</td>\n",
       "      <td>59</td>\n",
       "      <td>35597.195312</td>\n",
       "    </tr>\n",
       "    <tr>\n",
       "      <th>3</th>\n",
       "      <td>1</td>\n",
       "      <td>6766.44</td>\n",
       "      <td>5147.7</td>\n",
       "      <td>50.82</td>\n",
       "      <td>3639.9</td>\n",
       "      <td>2737.42</td>\n",
       "      <td>False</td>\n",
       "      <td>151315</td>\n",
       "      <td>4</td>\n",
       "      <td>1</td>\n",
       "      <td>0</td>\n",
       "      <td>0</td>\n",
       "      <td>2012</td>\n",
       "      <td>2</td>\n",
       "      <td>59</td>\n",
       "      <td>4917.603027</td>\n",
       "    </tr>\n",
       "    <tr>\n",
       "      <th>4</th>\n",
       "      <td>1</td>\n",
       "      <td>6766.44</td>\n",
       "      <td>5147.7</td>\n",
       "      <td>50.82</td>\n",
       "      <td>3639.9</td>\n",
       "      <td>2737.42</td>\n",
       "      <td>False</td>\n",
       "      <td>151315</td>\n",
       "      <td>5</td>\n",
       "      <td>1</td>\n",
       "      <td>0</td>\n",
       "      <td>0</td>\n",
       "      <td>2012</td>\n",
       "      <td>2</td>\n",
       "      <td>59</td>\n",
       "      <td>4314.440918</td>\n",
       "    </tr>\n",
       "  </tbody>\n",
       "</table>\n",
       "</div>"
      ],
      "text/plain": [
       "   Store  MarkDown1  MarkDown2  MarkDown3  MarkDown4  MarkDown5  IsHoliday  \\\n",
       "0      1    6766.44     5147.7      50.82     3639.9    2737.42      False   \n",
       "1      1    6766.44     5147.7      50.82     3639.9    2737.42      False   \n",
       "2      1    6766.44     5147.7      50.82     3639.9    2737.42      False   \n",
       "3      1    6766.44     5147.7      50.82     3639.9    2737.42      False   \n",
       "4      1    6766.44     5147.7      50.82     3639.9    2737.42      False   \n",
       "\n",
       "     Size  Dept  Type_A  Type_B  Type_C  Year  Day  Days to Next Christmas  \\\n",
       "0  151315     1       1       0       0  2012    2                      59   \n",
       "1  151315     2       1       0       0  2012    2                      59   \n",
       "2  151315     3       1       0       0  2012    2                      59   \n",
       "3  151315     4       1       0       0  2012    2                      59   \n",
       "4  151315     5       1       0       0  2012    2                      59   \n",
       "\n",
       "   Predicted Weekly Sales  \n",
       "0            39585.613281  \n",
       "1            11341.232422  \n",
       "2            35597.195312  \n",
       "3             4917.603027  \n",
       "4             4314.440918  "
      ]
     },
     "execution_count": 56,
     "metadata": {},
     "output_type": "execute_result"
    }
   ],
   "source": [
    "horizontal_stack.head(5)"
   ]
  },
  {
   "cell_type": "code",
   "execution_count": null,
   "metadata": {},
   "outputs": [],
   "source": []
  }
 ],
 "metadata": {
  "kernelspec": {
   "display_name": "Python 3",
   "language": "python",
   "name": "python3"
  },
  "language_info": {
   "codemirror_mode": {
    "name": "ipython",
    "version": 3
   },
   "file_extension": ".py",
   "mimetype": "text/x-python",
   "name": "python",
   "nbconvert_exporter": "python",
   "pygments_lexer": "ipython3",
   "version": "3.7.3"
  }
 },
 "nbformat": 4,
 "nbformat_minor": 2
}
